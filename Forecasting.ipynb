{
 "cells": [
  {
   "cell_type": "code",
   "execution_count": null,
   "id": "cd447c10",
   "metadata": {},
   "outputs": [],
   "source": [
    "import pandas as pd\n",
    "from openpyxl import load_workbook\n",
    "from sklearn import preprocessing as pre\n",
    "from sklearn.svm import SVR\n",
    "from sklearn.metrics import mean_absolute_error"
   ]
  },
  {
   "cell_type": "code",
   "execution_count": null,
   "id": "c1790518",
   "metadata": {
    "scrolled": true
   },
   "outputs": [],
   "source": [
    "df = pd.read_csv(r'Dataset\\Data Alumni.csv')\n",
    "df"
   ]
  },
  {
   "cell_type": "code",
   "execution_count": null,
   "id": "1e405ff5",
   "metadata": {},
   "outputs": [],
   "source": [
    "df['TOEFL'] = df['TOEFL'].apply(str)\n",
    "df['TOEFL'] = df['TOEFL'].str.replace(',','.').apply(float)"
   ]
  },
  {
   "cell_type": "code",
   "execution_count": null,
   "id": "adfbe8c7",
   "metadata": {},
   "outputs": [],
   "source": [
    "mean_TOEFL = df.TOEFL.mean()\n",
    "mean_TOEFL"
   ]
  },
  {
   "cell_type": "code",
   "execution_count": null,
   "id": "4d2dbf8b",
   "metadata": {
    "scrolled": true
   },
   "outputs": [],
   "source": [
    "df.TOEFL.fillna(mean_TOEFL, inplace=True)\n",
    "df"
   ]
  },
  {
   "cell_type": "code",
   "execution_count": null,
   "id": "950e6440",
   "metadata": {},
   "outputs": [],
   "source": [
    "for index, row in df.iterrows():\n",
    "    df.loc[index, 'Masa Studi']=row['lulus'] - row['masuk']\n",
    "df"
   ]
  },
  {
   "cell_type": "code",
   "execution_count": null,
   "id": "a809f961",
   "metadata": {},
   "outputs": [],
   "source": [
    "d_train =df[['TOEFL','Masa Studi']].reset_index(drop=True)\n",
    "d_train"
   ]
  },
  {
   "cell_type": "code",
   "execution_count": null,
   "id": "0bad8b3e",
   "metadata": {},
   "outputs": [],
   "source": [
    "y = targets = labels = d_train['Masa Studi'].apply(float).values\n",
    "y"
   ]
  },
  {
   "cell_type": "code",
   "execution_count": null,
   "id": "ba929d6b",
   "metadata": {},
   "outputs": [],
   "source": [
    "columns =['TOEFL']\n",
    "features = d_train[list(columns)].values\n",
    "features"
   ]
  },
  {
   "cell_type": "code",
   "execution_count": null,
   "id": "1effe0b6",
   "metadata": {},
   "outputs": [],
   "source": [
    "scaler = pre.StandardScaler().fit(features)\n",
    "X = scaler.transform(features)\n",
    "X"
   ]
  },
  {
   "cell_type": "code",
   "execution_count": null,
   "id": "ca9b6f14",
   "metadata": {},
   "outputs": [],
   "source": [
    "SVR_model = SVR(kernel='linear', C=100, gamma=.001).fit(X,y)\n",
    "SVR_model"
   ]
  },
  {
   "cell_type": "code",
   "execution_count": null,
   "id": "d9ddf825",
   "metadata": {},
   "outputs": [],
   "source": [
    "d_test = d_train.sample(n=16)\n",
    "d_test"
   ]
  },
  {
   "cell_type": "code",
   "execution_count": null,
   "id": "522e4152",
   "metadata": {},
   "outputs": [],
   "source": [
    "y_true = d_test['Masa Studi'].values\n",
    "y_true"
   ]
  },
  {
   "cell_type": "code",
   "execution_count": null,
   "id": "1ce9e62a",
   "metadata": {},
   "outputs": [],
   "source": [
    "columns =['TOEFL']\n",
    "features_test = d_test[list(columns)].values\n",
    "features_test"
   ]
  },
  {
   "cell_type": "code",
   "execution_count": null,
   "id": "90af9bd4",
   "metadata": {},
   "outputs": [],
   "source": [
    "scaler_test = pre.StandardScaler().fit(features_test)\n",
    "testdata = scaler_test.transform(features_test)\n",
    "testdata"
   ]
  },
  {
   "cell_type": "code",
   "execution_count": null,
   "id": "2ecd3935",
   "metadata": {},
   "outputs": [],
   "source": [
    "predict = SVR_model.predict(testdata)\n",
    "predict"
   ]
  },
  {
   "cell_type": "code",
   "execution_count": null,
   "id": "f9fb9d7d",
   "metadata": {},
   "outputs": [],
   "source": [
    "import numpy as np\n",
    "\n",
    "def mean_absolute_percentage_eror(y_true, predict):\n",
    "    y_true, predict = np.array(y_true), np.array(predict)\n",
    "    return np.mean(np.abs((y_true - predict)) * 100)\n",
    "\n",
    "mean_absolute_percentage_eror(y_true, predict)"
   ]
  },
  {
   "cell_type": "code",
   "execution_count": null,
   "id": "b5ed42ad",
   "metadata": {},
   "outputs": [],
   "source": [
    "from sklearn.metrics import mean_squared_error\n",
    "y_true_mse = d_test['Masa Studi'].values\n",
    "y_true_mse"
   ]
  },
  {
   "cell_type": "code",
   "execution_count": null,
   "id": "5bf8edeb",
   "metadata": {},
   "outputs": [],
   "source": [
    "mean_absolute_error(y_true, predict)"
   ]
  },
  {
   "cell_type": "code",
   "execution_count": null,
   "id": "2168fd7d",
   "metadata": {},
   "outputs": [],
   "source": [
    " "
   ]
  }
 ],
 "metadata": {
  "kernelspec": {
   "display_name": "Python 3",
   "language": "python",
   "name": "python3"
  },
  "language_info": {
   "codemirror_mode": {
    "name": "ipython",
    "version": 3
   },
   "file_extension": ".py",
   "mimetype": "text/x-python",
   "name": "python",
   "nbconvert_exporter": "python",
   "pygments_lexer": "ipython3",
   "version": "3.8.8"
  }
 },
 "nbformat": 4,
 "nbformat_minor": 5
}
