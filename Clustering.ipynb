{
 "cells": [
  {
   "cell_type": "code",
   "execution_count": 1,
   "id": "092da05f",
   "metadata": {},
   "outputs": [],
   "source": [
    "import pandas as pd\n",
    "from openpyxl import load_workbook\n",
    "import numpy as np"
   ]
  },
  {
   "cell_type": "code",
   "execution_count": 2,
   "id": "914bf96e",
   "metadata": {
    "scrolled": true
   },
   "outputs": [
    {
     "data": {
      "text/html": [
       "<div>\n",
       "<style scoped>\n",
       "    .dataframe tbody tr th:only-of-type {\n",
       "        vertical-align: middle;\n",
       "    }\n",
       "\n",
       "    .dataframe tbody tr th {\n",
       "        vertical-align: top;\n",
       "    }\n",
       "\n",
       "    .dataframe thead th {\n",
       "        text-align: right;\n",
       "    }\n",
       "</style>\n",
       "<table border=\"1\" class=\"dataframe\">\n",
       "  <thead>\n",
       "    <tr style=\"text-align: right;\">\n",
       "      <th></th>\n",
       "      <th>No</th>\n",
       "      <th>NIM</th>\n",
       "      <th>Nama</th>\n",
       "      <th>Jumlah SKS</th>\n",
       "      <th>Nilai TBQ</th>\n",
       "    </tr>\n",
       "  </thead>\n",
       "  <tbody>\n",
       "    <tr>\n",
       "      <th>0</th>\n",
       "      <td>1</td>\n",
       "      <td>1300018177</td>\n",
       "      <td>Ani Yuanita</td>\n",
       "      <td>109</td>\n",
       "      <td>70</td>\n",
       "    </tr>\n",
       "    <tr>\n",
       "      <th>1</th>\n",
       "      <td>2</td>\n",
       "      <td>1300018188</td>\n",
       "      <td>Burhan Fajar P.</td>\n",
       "      <td>89</td>\n",
       "      <td>75</td>\n",
       "    </tr>\n",
       "    <tr>\n",
       "      <th>2</th>\n",
       "      <td>3</td>\n",
       "      <td>1300018200</td>\n",
       "      <td>Heri Budiyanto</td>\n",
       "      <td>120</td>\n",
       "      <td>65</td>\n",
       "    </tr>\n",
       "    <tr>\n",
       "      <th>3</th>\n",
       "      <td>4</td>\n",
       "      <td>1300018201</td>\n",
       "      <td>Dimas Satrio W.</td>\n",
       "      <td>111</td>\n",
       "      <td>60</td>\n",
       "    </tr>\n",
       "    <tr>\n",
       "      <th>4</th>\n",
       "      <td>5</td>\n",
       "      <td>1300019200</td>\n",
       "      <td>Nur Hidayat</td>\n",
       "      <td>100</td>\n",
       "      <td>50</td>\n",
       "    </tr>\n",
       "    <tr>\n",
       "      <th>5</th>\n",
       "      <td>6</td>\n",
       "      <td>1300019181</td>\n",
       "      <td>Vilda Lestari</td>\n",
       "      <td>90</td>\n",
       "      <td>55</td>\n",
       "    </tr>\n",
       "    <tr>\n",
       "      <th>6</th>\n",
       "      <td>7</td>\n",
       "      <td>1300018198</td>\n",
       "      <td>Edi Suryanto</td>\n",
       "      <td>98</td>\n",
       "      <td>60</td>\n",
       "    </tr>\n",
       "    <tr>\n",
       "      <th>7</th>\n",
       "      <td>8</td>\n",
       "      <td>1300019001</td>\n",
       "      <td>Erna Dwi Puspita</td>\n",
       "      <td>70</td>\n",
       "      <td>75</td>\n",
       "    </tr>\n",
       "    <tr>\n",
       "      <th>8</th>\n",
       "      <td>9</td>\n",
       "      <td>1300022099</td>\n",
       "      <td>Nurfita FF</td>\n",
       "      <td>63</td>\n",
       "      <td>80</td>\n",
       "    </tr>\n",
       "    <tr>\n",
       "      <th>9</th>\n",
       "      <td>10</td>\n",
       "      <td>1300015006</td>\n",
       "      <td>Fahmi dwi N.</td>\n",
       "      <td>84</td>\n",
       "      <td>60</td>\n",
       "    </tr>\n",
       "    <tr>\n",
       "      <th>10</th>\n",
       "      <td>11</td>\n",
       "      <td>1300023046</td>\n",
       "      <td>Hamzah Pramudya</td>\n",
       "      <td>102</td>\n",
       "      <td>68</td>\n",
       "    </tr>\n",
       "    <tr>\n",
       "      <th>11</th>\n",
       "      <td>12</td>\n",
       "      <td>1300023143</td>\n",
       "      <td>Nurcahyo</td>\n",
       "      <td>110</td>\n",
       "      <td>70</td>\n",
       "    </tr>\n",
       "    <tr>\n",
       "      <th>12</th>\n",
       "      <td>13</td>\n",
       "      <td>1300023200</td>\n",
       "      <td>Aminatun R.</td>\n",
       "      <td>110</td>\n",
       "      <td>75</td>\n",
       "    </tr>\n",
       "    <tr>\n",
       "      <th>13</th>\n",
       "      <td>14</td>\n",
       "      <td>1300022080</td>\n",
       "      <td>Tri Haryanto</td>\n",
       "      <td>124</td>\n",
       "      <td>68</td>\n",
       "    </tr>\n",
       "    <tr>\n",
       "      <th>14</th>\n",
       "      <td>15</td>\n",
       "      <td>9018263</td>\n",
       "      <td>Irma Kautsaril Q.</td>\n",
       "      <td>120</td>\n",
       "      <td>65</td>\n",
       "    </tr>\n",
       "    <tr>\n",
       "      <th>15</th>\n",
       "      <td>16</td>\n",
       "      <td>12022030</td>\n",
       "      <td>Risna Dania</td>\n",
       "      <td>115</td>\n",
       "      <td>68</td>\n",
       "    </tr>\n",
       "    <tr>\n",
       "      <th>16</th>\n",
       "      <td>17</td>\n",
       "      <td>12020021</td>\n",
       "      <td>Ageng Priyono</td>\n",
       "      <td>116</td>\n",
       "      <td>80</td>\n",
       "    </tr>\n",
       "    <tr>\n",
       "      <th>17</th>\n",
       "      <td>18</td>\n",
       "      <td>9018269</td>\n",
       "      <td>Reny Surya P</td>\n",
       "      <td>98</td>\n",
       "      <td>70</td>\n",
       "    </tr>\n",
       "    <tr>\n",
       "      <th>18</th>\n",
       "      <td>19</td>\n",
       "      <td>9018109</td>\n",
       "      <td>Layly Aslinda S.</td>\n",
       "      <td>110</td>\n",
       "      <td>75</td>\n",
       "    </tr>\n",
       "    <tr>\n",
       "      <th>19</th>\n",
       "      <td>20</td>\n",
       "      <td>9020026</td>\n",
       "      <td>David Setiarso</td>\n",
       "      <td>114</td>\n",
       "      <td>55</td>\n",
       "    </tr>\n",
       "    <tr>\n",
       "      <th>20</th>\n",
       "      <td>21</td>\n",
       "      <td>12018060</td>\n",
       "      <td>Agne Cia</td>\n",
       "      <td>120</td>\n",
       "      <td>68</td>\n",
       "    </tr>\n",
       "    <tr>\n",
       "      <th>21</th>\n",
       "      <td>22</td>\n",
       "      <td>11018022</td>\n",
       "      <td>Hari Anggoro</td>\n",
       "      <td>118</td>\n",
       "      <td>50</td>\n",
       "    </tr>\n",
       "    <tr>\n",
       "      <th>22</th>\n",
       "      <td>23</td>\n",
       "      <td>9018212</td>\n",
       "      <td>Anas Bayu P</td>\n",
       "      <td>105</td>\n",
       "      <td>55</td>\n",
       "    </tr>\n",
       "    <tr>\n",
       "      <th>23</th>\n",
       "      <td>24</td>\n",
       "      <td>9018301</td>\n",
       "      <td>Danar Apriyanto</td>\n",
       "      <td>109</td>\n",
       "      <td>68</td>\n",
       "    </tr>\n",
       "    <tr>\n",
       "      <th>24</th>\n",
       "      <td>25</td>\n",
       "      <td>12022020</td>\n",
       "      <td>Agus Dwi Saputra</td>\n",
       "      <td>108</td>\n",
       "      <td>70</td>\n",
       "    </tr>\n",
       "    <tr>\n",
       "      <th>25</th>\n",
       "      <td>26</td>\n",
       "      <td>12022038</td>\n",
       "      <td>Wahyu Hidayat</td>\n",
       "      <td>79</td>\n",
       "      <td>75</td>\n",
       "    </tr>\n",
       "    <tr>\n",
       "      <th>26</th>\n",
       "      <td>27</td>\n",
       "      <td>12019039</td>\n",
       "      <td>Slamet Riyanto</td>\n",
       "      <td>67</td>\n",
       "      <td>55</td>\n",
       "    </tr>\n",
       "    <tr>\n",
       "      <th>27</th>\n",
       "      <td>28</td>\n",
       "      <td>11018111</td>\n",
       "      <td>Ahmad Alfian Y.</td>\n",
       "      <td>130</td>\n",
       "      <td>58</td>\n",
       "    </tr>\n",
       "    <tr>\n",
       "      <th>28</th>\n",
       "      <td>29</td>\n",
       "      <td>9018135</td>\n",
       "      <td>Andini Setyowati</td>\n",
       "      <td>107</td>\n",
       "      <td>80</td>\n",
       "    </tr>\n",
       "    <tr>\n",
       "      <th>29</th>\n",
       "      <td>30</td>\n",
       "      <td>12018161</td>\n",
       "      <td>Aris Maryanto</td>\n",
       "      <td>108</td>\n",
       "      <td>85</td>\n",
       "    </tr>\n",
       "  </tbody>\n",
       "</table>\n",
       "</div>"
      ],
      "text/plain": [
       "    No         NIM               Nama  Jumlah SKS  Nilai TBQ\n",
       "0    1  1300018177        Ani Yuanita         109         70\n",
       "1    2  1300018188    Burhan Fajar P.          89         75\n",
       "2    3  1300018200     Heri Budiyanto         120         65\n",
       "3    4  1300018201    Dimas Satrio W.         111         60\n",
       "4    5  1300019200        Nur Hidayat         100         50\n",
       "5    6  1300019181      Vilda Lestari          90         55\n",
       "6    7  1300018198       Edi Suryanto          98         60\n",
       "7    8  1300019001   Erna Dwi Puspita          70         75\n",
       "8    9  1300022099         Nurfita FF          63         80\n",
       "9   10  1300015006       Fahmi dwi N.          84         60\n",
       "10  11  1300023046    Hamzah Pramudya         102         68\n",
       "11  12  1300023143           Nurcahyo         110         70\n",
       "12  13  1300023200        Aminatun R.         110         75\n",
       "13  14  1300022080       Tri Haryanto         124         68\n",
       "14  15     9018263  Irma Kautsaril Q.         120         65\n",
       "15  16    12022030        Risna Dania         115         68\n",
       "16  17    12020021      Ageng Priyono         116         80\n",
       "17  18     9018269       Reny Surya P          98         70\n",
       "18  19     9018109   Layly Aslinda S.         110         75\n",
       "19  20     9020026     David Setiarso         114         55\n",
       "20  21    12018060           Agne Cia         120         68\n",
       "21  22    11018022       Hari Anggoro         118         50\n",
       "22  23     9018212        Anas Bayu P         105         55\n",
       "23  24     9018301    Danar Apriyanto         109         68\n",
       "24  25    12022020   Agus Dwi Saputra         108         70\n",
       "25  26    12022038      Wahyu Hidayat          79         75\n",
       "26  27    12019039     Slamet Riyanto          67         55\n",
       "27  28    11018111    Ahmad Alfian Y.         130         58\n",
       "28  29     9018135   Andini Setyowati         107         80\n",
       "29  30    12018161      Aris Maryanto         108         85"
      ]
     },
     "execution_count": 2,
     "metadata": {},
     "output_type": "execute_result"
    }
   ],
   "source": [
    "df = pd.read_csv(r'Dataset\\mahasiswa.csv')\n",
    "df"
   ]
  },
  {
   "cell_type": "code",
   "execution_count": 3,
   "id": "1177be37",
   "metadata": {},
   "outputs": [],
   "source": [
    "from sklearn.cluster import KMeans\n",
    "import matplotlib.pyplot as plt"
   ]
  },
  {
   "cell_type": "code",
   "execution_count": 4,
   "id": "5dffcd67",
   "metadata": {
    "scrolled": true
   },
   "outputs": [
    {
     "data": {
      "text/html": [
       "<div>\n",
       "<style scoped>\n",
       "    .dataframe tbody tr th:only-of-type {\n",
       "        vertical-align: middle;\n",
       "    }\n",
       "\n",
       "    .dataframe tbody tr th {\n",
       "        vertical-align: top;\n",
       "    }\n",
       "\n",
       "    .dataframe thead th {\n",
       "        text-align: right;\n",
       "    }\n",
       "</style>\n",
       "<table border=\"1\" class=\"dataframe\">\n",
       "  <thead>\n",
       "    <tr style=\"text-align: right;\">\n",
       "      <th></th>\n",
       "      <th>NIM</th>\n",
       "      <th>Jumlah SKS</th>\n",
       "      <th>Nilai TBQ</th>\n",
       "    </tr>\n",
       "  </thead>\n",
       "  <tbody>\n",
       "    <tr>\n",
       "      <th>0</th>\n",
       "      <td>1300018177</td>\n",
       "      <td>109</td>\n",
       "      <td>70</td>\n",
       "    </tr>\n",
       "    <tr>\n",
       "      <th>1</th>\n",
       "      <td>1300018188</td>\n",
       "      <td>89</td>\n",
       "      <td>75</td>\n",
       "    </tr>\n",
       "    <tr>\n",
       "      <th>2</th>\n",
       "      <td>1300018200</td>\n",
       "      <td>120</td>\n",
       "      <td>65</td>\n",
       "    </tr>\n",
       "    <tr>\n",
       "      <th>3</th>\n",
       "      <td>1300018201</td>\n",
       "      <td>111</td>\n",
       "      <td>60</td>\n",
       "    </tr>\n",
       "    <tr>\n",
       "      <th>4</th>\n",
       "      <td>1300019200</td>\n",
       "      <td>100</td>\n",
       "      <td>50</td>\n",
       "    </tr>\n",
       "    <tr>\n",
       "      <th>5</th>\n",
       "      <td>1300019181</td>\n",
       "      <td>90</td>\n",
       "      <td>55</td>\n",
       "    </tr>\n",
       "    <tr>\n",
       "      <th>6</th>\n",
       "      <td>1300018198</td>\n",
       "      <td>98</td>\n",
       "      <td>60</td>\n",
       "    </tr>\n",
       "    <tr>\n",
       "      <th>7</th>\n",
       "      <td>1300019001</td>\n",
       "      <td>70</td>\n",
       "      <td>75</td>\n",
       "    </tr>\n",
       "    <tr>\n",
       "      <th>8</th>\n",
       "      <td>1300022099</td>\n",
       "      <td>63</td>\n",
       "      <td>80</td>\n",
       "    </tr>\n",
       "    <tr>\n",
       "      <th>9</th>\n",
       "      <td>1300015006</td>\n",
       "      <td>84</td>\n",
       "      <td>60</td>\n",
       "    </tr>\n",
       "    <tr>\n",
       "      <th>10</th>\n",
       "      <td>1300023046</td>\n",
       "      <td>102</td>\n",
       "      <td>68</td>\n",
       "    </tr>\n",
       "    <tr>\n",
       "      <th>11</th>\n",
       "      <td>1300023143</td>\n",
       "      <td>110</td>\n",
       "      <td>70</td>\n",
       "    </tr>\n",
       "    <tr>\n",
       "      <th>12</th>\n",
       "      <td>1300023200</td>\n",
       "      <td>110</td>\n",
       "      <td>75</td>\n",
       "    </tr>\n",
       "    <tr>\n",
       "      <th>13</th>\n",
       "      <td>1300022080</td>\n",
       "      <td>124</td>\n",
       "      <td>68</td>\n",
       "    </tr>\n",
       "    <tr>\n",
       "      <th>14</th>\n",
       "      <td>9018263</td>\n",
       "      <td>120</td>\n",
       "      <td>65</td>\n",
       "    </tr>\n",
       "    <tr>\n",
       "      <th>15</th>\n",
       "      <td>12022030</td>\n",
       "      <td>115</td>\n",
       "      <td>68</td>\n",
       "    </tr>\n",
       "    <tr>\n",
       "      <th>16</th>\n",
       "      <td>12020021</td>\n",
       "      <td>116</td>\n",
       "      <td>80</td>\n",
       "    </tr>\n",
       "    <tr>\n",
       "      <th>17</th>\n",
       "      <td>9018269</td>\n",
       "      <td>98</td>\n",
       "      <td>70</td>\n",
       "    </tr>\n",
       "    <tr>\n",
       "      <th>18</th>\n",
       "      <td>9018109</td>\n",
       "      <td>110</td>\n",
       "      <td>75</td>\n",
       "    </tr>\n",
       "    <tr>\n",
       "      <th>19</th>\n",
       "      <td>9020026</td>\n",
       "      <td>114</td>\n",
       "      <td>55</td>\n",
       "    </tr>\n",
       "    <tr>\n",
       "      <th>20</th>\n",
       "      <td>12018060</td>\n",
       "      <td>120</td>\n",
       "      <td>68</td>\n",
       "    </tr>\n",
       "    <tr>\n",
       "      <th>21</th>\n",
       "      <td>11018022</td>\n",
       "      <td>118</td>\n",
       "      <td>50</td>\n",
       "    </tr>\n",
       "    <tr>\n",
       "      <th>22</th>\n",
       "      <td>9018212</td>\n",
       "      <td>105</td>\n",
       "      <td>55</td>\n",
       "    </tr>\n",
       "    <tr>\n",
       "      <th>23</th>\n",
       "      <td>9018301</td>\n",
       "      <td>109</td>\n",
       "      <td>68</td>\n",
       "    </tr>\n",
       "    <tr>\n",
       "      <th>24</th>\n",
       "      <td>12022020</td>\n",
       "      <td>108</td>\n",
       "      <td>70</td>\n",
       "    </tr>\n",
       "    <tr>\n",
       "      <th>25</th>\n",
       "      <td>12022038</td>\n",
       "      <td>79</td>\n",
       "      <td>75</td>\n",
       "    </tr>\n",
       "    <tr>\n",
       "      <th>26</th>\n",
       "      <td>12019039</td>\n",
       "      <td>67</td>\n",
       "      <td>55</td>\n",
       "    </tr>\n",
       "    <tr>\n",
       "      <th>27</th>\n",
       "      <td>11018111</td>\n",
       "      <td>130</td>\n",
       "      <td>58</td>\n",
       "    </tr>\n",
       "    <tr>\n",
       "      <th>28</th>\n",
       "      <td>9018135</td>\n",
       "      <td>107</td>\n",
       "      <td>80</td>\n",
       "    </tr>\n",
       "    <tr>\n",
       "      <th>29</th>\n",
       "      <td>12018161</td>\n",
       "      <td>108</td>\n",
       "      <td>85</td>\n",
       "    </tr>\n",
       "  </tbody>\n",
       "</table>\n",
       "</div>"
      ],
      "text/plain": [
       "           NIM  Jumlah SKS  Nilai TBQ\n",
       "0   1300018177         109         70\n",
       "1   1300018188          89         75\n",
       "2   1300018200         120         65\n",
       "3   1300018201         111         60\n",
       "4   1300019200         100         50\n",
       "5   1300019181          90         55\n",
       "6   1300018198          98         60\n",
       "7   1300019001          70         75\n",
       "8   1300022099          63         80\n",
       "9   1300015006          84         60\n",
       "10  1300023046         102         68\n",
       "11  1300023143         110         70\n",
       "12  1300023200         110         75\n",
       "13  1300022080         124         68\n",
       "14     9018263         120         65\n",
       "15    12022030         115         68\n",
       "16    12020021         116         80\n",
       "17     9018269          98         70\n",
       "18     9018109         110         75\n",
       "19     9020026         114         55\n",
       "20    12018060         120         68\n",
       "21    11018022         118         50\n",
       "22     9018212         105         55\n",
       "23     9018301         109         68\n",
       "24    12022020         108         70\n",
       "25    12022038          79         75\n",
       "26    12019039          67         55\n",
       "27    11018111         130         58\n",
       "28     9018135         107         80\n",
       "29    12018161         108         85"
      ]
     },
     "execution_count": 4,
     "metadata": {},
     "output_type": "execute_result"
    }
   ],
   "source": [
    "df[['NIM','Jumlah SKS','Nilai TBQ']]"
   ]
  },
  {
   "cell_type": "code",
   "execution_count": 5,
   "id": "c5baddab",
   "metadata": {
    "scrolled": true
   },
   "outputs": [
    {
     "data": {
      "text/html": [
       "<div>\n",
       "<style scoped>\n",
       "    .dataframe tbody tr th:only-of-type {\n",
       "        vertical-align: middle;\n",
       "    }\n",
       "\n",
       "    .dataframe tbody tr th {\n",
       "        vertical-align: top;\n",
       "    }\n",
       "\n",
       "    .dataframe thead th {\n",
       "        text-align: right;\n",
       "    }\n",
       "</style>\n",
       "<table border=\"1\" class=\"dataframe\">\n",
       "  <thead>\n",
       "    <tr style=\"text-align: right;\">\n",
       "      <th></th>\n",
       "      <th>No</th>\n",
       "      <th>NIM</th>\n",
       "      <th>Nama</th>\n",
       "      <th>Jumlah SKS</th>\n",
       "      <th>Nilai TBQ</th>\n",
       "    </tr>\n",
       "  </thead>\n",
       "  <tbody>\n",
       "    <tr>\n",
       "      <th>0</th>\n",
       "      <td>1</td>\n",
       "      <td>1300018177</td>\n",
       "      <td>Ani Yuanita</td>\n",
       "      <td>109</td>\n",
       "      <td>70</td>\n",
       "    </tr>\n",
       "    <tr>\n",
       "      <th>1</th>\n",
       "      <td>2</td>\n",
       "      <td>1300018188</td>\n",
       "      <td>Burhan Fajar P.</td>\n",
       "      <td>89</td>\n",
       "      <td>75</td>\n",
       "    </tr>\n",
       "    <tr>\n",
       "      <th>2</th>\n",
       "      <td>3</td>\n",
       "      <td>1300018200</td>\n",
       "      <td>Heri Budiyanto</td>\n",
       "      <td>120</td>\n",
       "      <td>65</td>\n",
       "    </tr>\n",
       "    <tr>\n",
       "      <th>3</th>\n",
       "      <td>4</td>\n",
       "      <td>1300018201</td>\n",
       "      <td>Dimas Satrio W.</td>\n",
       "      <td>111</td>\n",
       "      <td>60</td>\n",
       "    </tr>\n",
       "    <tr>\n",
       "      <th>4</th>\n",
       "      <td>5</td>\n",
       "      <td>1300019200</td>\n",
       "      <td>Nur Hidayat</td>\n",
       "      <td>100</td>\n",
       "      <td>50</td>\n",
       "    </tr>\n",
       "    <tr>\n",
       "      <th>5</th>\n",
       "      <td>6</td>\n",
       "      <td>1300019181</td>\n",
       "      <td>Vilda Lestari</td>\n",
       "      <td>90</td>\n",
       "      <td>55</td>\n",
       "    </tr>\n",
       "    <tr>\n",
       "      <th>6</th>\n",
       "      <td>7</td>\n",
       "      <td>1300018198</td>\n",
       "      <td>Edi Suryanto</td>\n",
       "      <td>98</td>\n",
       "      <td>60</td>\n",
       "    </tr>\n",
       "    <tr>\n",
       "      <th>7</th>\n",
       "      <td>8</td>\n",
       "      <td>1300019001</td>\n",
       "      <td>Erna Dwi Puspita</td>\n",
       "      <td>70</td>\n",
       "      <td>75</td>\n",
       "    </tr>\n",
       "    <tr>\n",
       "      <th>8</th>\n",
       "      <td>9</td>\n",
       "      <td>1300022099</td>\n",
       "      <td>Nurfita FF</td>\n",
       "      <td>63</td>\n",
       "      <td>80</td>\n",
       "    </tr>\n",
       "    <tr>\n",
       "      <th>9</th>\n",
       "      <td>10</td>\n",
       "      <td>1300015006</td>\n",
       "      <td>Fahmi dwi N.</td>\n",
       "      <td>84</td>\n",
       "      <td>60</td>\n",
       "    </tr>\n",
       "    <tr>\n",
       "      <th>10</th>\n",
       "      <td>11</td>\n",
       "      <td>1300023046</td>\n",
       "      <td>Hamzah Pramudya</td>\n",
       "      <td>102</td>\n",
       "      <td>68</td>\n",
       "    </tr>\n",
       "    <tr>\n",
       "      <th>11</th>\n",
       "      <td>12</td>\n",
       "      <td>1300023143</td>\n",
       "      <td>Nurcahyo</td>\n",
       "      <td>110</td>\n",
       "      <td>70</td>\n",
       "    </tr>\n",
       "    <tr>\n",
       "      <th>12</th>\n",
       "      <td>13</td>\n",
       "      <td>1300023200</td>\n",
       "      <td>Aminatun R.</td>\n",
       "      <td>110</td>\n",
       "      <td>75</td>\n",
       "    </tr>\n",
       "    <tr>\n",
       "      <th>13</th>\n",
       "      <td>14</td>\n",
       "      <td>1300022080</td>\n",
       "      <td>Tri Haryanto</td>\n",
       "      <td>124</td>\n",
       "      <td>68</td>\n",
       "    </tr>\n",
       "    <tr>\n",
       "      <th>14</th>\n",
       "      <td>15</td>\n",
       "      <td>9018263</td>\n",
       "      <td>Irma Kautsaril Q.</td>\n",
       "      <td>120</td>\n",
       "      <td>65</td>\n",
       "    </tr>\n",
       "    <tr>\n",
       "      <th>15</th>\n",
       "      <td>16</td>\n",
       "      <td>12022030</td>\n",
       "      <td>Risna Dania</td>\n",
       "      <td>115</td>\n",
       "      <td>68</td>\n",
       "    </tr>\n",
       "    <tr>\n",
       "      <th>16</th>\n",
       "      <td>17</td>\n",
       "      <td>12020021</td>\n",
       "      <td>Ageng Priyono</td>\n",
       "      <td>116</td>\n",
       "      <td>80</td>\n",
       "    </tr>\n",
       "    <tr>\n",
       "      <th>17</th>\n",
       "      <td>18</td>\n",
       "      <td>9018269</td>\n",
       "      <td>Reny Surya P</td>\n",
       "      <td>98</td>\n",
       "      <td>70</td>\n",
       "    </tr>\n",
       "    <tr>\n",
       "      <th>18</th>\n",
       "      <td>19</td>\n",
       "      <td>9018109</td>\n",
       "      <td>Layly Aslinda S.</td>\n",
       "      <td>110</td>\n",
       "      <td>75</td>\n",
       "    </tr>\n",
       "    <tr>\n",
       "      <th>19</th>\n",
       "      <td>20</td>\n",
       "      <td>9020026</td>\n",
       "      <td>David Setiarso</td>\n",
       "      <td>114</td>\n",
       "      <td>55</td>\n",
       "    </tr>\n",
       "    <tr>\n",
       "      <th>20</th>\n",
       "      <td>21</td>\n",
       "      <td>12018060</td>\n",
       "      <td>Agne Cia</td>\n",
       "      <td>120</td>\n",
       "      <td>68</td>\n",
       "    </tr>\n",
       "    <tr>\n",
       "      <th>21</th>\n",
       "      <td>22</td>\n",
       "      <td>11018022</td>\n",
       "      <td>Hari Anggoro</td>\n",
       "      <td>118</td>\n",
       "      <td>50</td>\n",
       "    </tr>\n",
       "    <tr>\n",
       "      <th>22</th>\n",
       "      <td>23</td>\n",
       "      <td>9018212</td>\n",
       "      <td>Anas Bayu P</td>\n",
       "      <td>105</td>\n",
       "      <td>55</td>\n",
       "    </tr>\n",
       "    <tr>\n",
       "      <th>23</th>\n",
       "      <td>24</td>\n",
       "      <td>9018301</td>\n",
       "      <td>Danar Apriyanto</td>\n",
       "      <td>109</td>\n",
       "      <td>68</td>\n",
       "    </tr>\n",
       "    <tr>\n",
       "      <th>24</th>\n",
       "      <td>25</td>\n",
       "      <td>12022020</td>\n",
       "      <td>Agus Dwi Saputra</td>\n",
       "      <td>108</td>\n",
       "      <td>70</td>\n",
       "    </tr>\n",
       "    <tr>\n",
       "      <th>25</th>\n",
       "      <td>26</td>\n",
       "      <td>12022038</td>\n",
       "      <td>Wahyu Hidayat</td>\n",
       "      <td>79</td>\n",
       "      <td>75</td>\n",
       "    </tr>\n",
       "    <tr>\n",
       "      <th>26</th>\n",
       "      <td>27</td>\n",
       "      <td>12019039</td>\n",
       "      <td>Slamet Riyanto</td>\n",
       "      <td>67</td>\n",
       "      <td>55</td>\n",
       "    </tr>\n",
       "    <tr>\n",
       "      <th>27</th>\n",
       "      <td>28</td>\n",
       "      <td>11018111</td>\n",
       "      <td>Ahmad Alfian Y.</td>\n",
       "      <td>130</td>\n",
       "      <td>58</td>\n",
       "    </tr>\n",
       "    <tr>\n",
       "      <th>28</th>\n",
       "      <td>29</td>\n",
       "      <td>9018135</td>\n",
       "      <td>Andini Setyowati</td>\n",
       "      <td>107</td>\n",
       "      <td>80</td>\n",
       "    </tr>\n",
       "    <tr>\n",
       "      <th>29</th>\n",
       "      <td>30</td>\n",
       "      <td>12018161</td>\n",
       "      <td>Aris Maryanto</td>\n",
       "      <td>108</td>\n",
       "      <td>85</td>\n",
       "    </tr>\n",
       "  </tbody>\n",
       "</table>\n",
       "</div>"
      ],
      "text/plain": [
       "    No         NIM               Nama  Jumlah SKS  Nilai TBQ\n",
       "0    1  1300018177        Ani Yuanita         109         70\n",
       "1    2  1300018188    Burhan Fajar P.          89         75\n",
       "2    3  1300018200     Heri Budiyanto         120         65\n",
       "3    4  1300018201    Dimas Satrio W.         111         60\n",
       "4    5  1300019200        Nur Hidayat         100         50\n",
       "5    6  1300019181      Vilda Lestari          90         55\n",
       "6    7  1300018198       Edi Suryanto          98         60\n",
       "7    8  1300019001   Erna Dwi Puspita          70         75\n",
       "8    9  1300022099         Nurfita FF          63         80\n",
       "9   10  1300015006       Fahmi dwi N.          84         60\n",
       "10  11  1300023046    Hamzah Pramudya         102         68\n",
       "11  12  1300023143           Nurcahyo         110         70\n",
       "12  13  1300023200        Aminatun R.         110         75\n",
       "13  14  1300022080       Tri Haryanto         124         68\n",
       "14  15     9018263  Irma Kautsaril Q.         120         65\n",
       "15  16    12022030        Risna Dania         115         68\n",
       "16  17    12020021      Ageng Priyono         116         80\n",
       "17  18     9018269       Reny Surya P          98         70\n",
       "18  19     9018109   Layly Aslinda S.         110         75\n",
       "19  20     9020026     David Setiarso         114         55\n",
       "20  21    12018060           Agne Cia         120         68\n",
       "21  22    11018022       Hari Anggoro         118         50\n",
       "22  23     9018212        Anas Bayu P         105         55\n",
       "23  24     9018301    Danar Apriyanto         109         68\n",
       "24  25    12022020   Agus Dwi Saputra         108         70\n",
       "25  26    12022038      Wahyu Hidayat          79         75\n",
       "26  27    12019039     Slamet Riyanto          67         55\n",
       "27  28    11018111    Ahmad Alfian Y.         130         58\n",
       "28  29     9018135   Andini Setyowati         107         80\n",
       "29  30    12018161      Aris Maryanto         108         85"
      ]
     },
     "execution_count": 5,
     "metadata": {},
     "output_type": "execute_result"
    }
   ],
   "source": [
    "tabel = df.reset_index(drop=True)\n",
    "tabel"
   ]
  },
  {
   "cell_type": "code",
   "execution_count": 6,
   "id": "bc2305ec",
   "metadata": {},
   "outputs": [
    {
     "name": "stdout",
     "output_type": "stream",
     "text": [
      "[[109  70]\n",
      " [ 89  75]\n",
      " [120  65]\n",
      " [111  60]\n",
      " [100  50]\n",
      " [ 90  55]\n",
      " [ 98  60]\n",
      " [ 70  75]\n",
      " [ 63  80]\n",
      " [ 84  60]\n",
      " [102  68]\n",
      " [110  70]\n",
      " [110  75]\n",
      " [124  68]\n",
      " [120  65]\n",
      " [115  68]\n",
      " [116  80]\n",
      " [ 98  70]\n",
      " [110  75]\n",
      " [114  55]\n",
      " [120  68]\n",
      " [118  50]\n",
      " [105  55]\n",
      " [109  68]\n",
      " [108  70]\n",
      " [ 79  75]\n",
      " [ 67  55]\n",
      " [130  58]\n",
      " [107  80]\n",
      " [108  85]]\n"
     ]
    }
   ],
   "source": [
    "x = tabel[['Jumlah SKS','Nilai TBQ']].to_numpy()\n",
    "print (x)"
   ]
  },
  {
   "cell_type": "code",
   "execution_count": 7,
   "id": "167e8ca9",
   "metadata": {},
   "outputs": [
    {
     "name": "stdout",
     "output_type": "stream",
     "text": [
      "coordinate 0  [109  70] labels 0\n",
      "coordinate 1  [89 75] labels 1\n",
      "coordinate 2  [120  65] labels 0\n",
      "coordinate 3  [111  60] labels 2\n",
      "coordinate 4  [100  50] labels 2\n",
      "coordinate 5  [90 55] labels 2\n",
      "coordinate 6  [98 60] labels 2\n",
      "coordinate 7  [70 75] labels 1\n",
      "coordinate 8  [63 80] labels 1\n",
      "coordinate 9  [84 60] labels 1\n",
      "coordinate 10  [102  68] labels 2\n",
      "coordinate 11  [110  70] labels 0\n",
      "coordinate 12  [110  75] labels 0\n",
      "coordinate 13  [124  68] labels 0\n",
      "coordinate 14  [120  65] labels 0\n",
      "coordinate 15  [115  68] labels 0\n",
      "coordinate 16  [116  80] labels 0\n",
      "coordinate 17  [98 70] labels 2\n",
      "coordinate 18  [110  75] labels 0\n",
      "coordinate 19  [114  55] labels 2\n",
      "coordinate 20  [120  68] labels 0\n",
      "coordinate 21  [118  50] labels 2\n",
      "coordinate 22  [105  55] labels 2\n",
      "coordinate 23  [109  68] labels 0\n",
      "coordinate 24  [108  70] labels 0\n",
      "coordinate 25  [79 75] labels 1\n",
      "coordinate 26  [67 55] labels 1\n",
      "coordinate 27  [130  58] labels 0\n",
      "coordinate 28  [107  80] labels 0\n",
      "coordinate 29  [108  85] labels 0\n"
     ]
    },
    {
     "data": {
      "image/png": "[encoded data removed]",
      "text/plain": [
       "<Figure size 1080x720 with 1 Axes>"
      ]
     },
     "metadata": {
      "needs_background": "light"
     },
     "output_type": "display_data"
    }
   ],
   "source": [
    "kmeans = KMeans(n_clusters=3)\n",
    "kmeans.fit(x)\n",
    "\n",
    "centroids = kmeans.cluster_centers_\n",
    "labels = kmeans.labels_\n",
    "colors = ['g.','r.','b.']\n",
    "\n",
    "plt.figure(figsize=(15,10))\n",
    "\n",
    "for i in range(len(x)):\n",
    "    print('coordinate %s ' %i, x[i], 'labels %s' %labels[i])\n",
    "    plt.plot(x[i][0], x[i][1], colors[labels[i]], markersize=10)\n",
    "    list_cluster = tabel[(tabel['Jumlah SKS'] == x[i][0]) & (tabel['Nilai TBQ'] == x[i][1])].index.tolist()\n",
    "    plt.text(x[i][0], x[i][1], '%s' %(list_cluster))\n",
    "plt.scatter(centroids[:, 0], centroids[:, 1], marker = 'x', s=50, linewidths=5, zorder=10)\n",
    "plt.show()"
   ]
  },
  {
   "cell_type": "code",
   "execution_count": 8,
   "id": "62b3b26e",
   "metadata": {},
   "outputs": [
    {
     "name": "stdout",
     "output_type": "stream",
     "text": [
      "Automatically created module for IPython interactive environment\n"
     ]
    }
   ],
   "source": [
    "from __future__ import print_function\n",
    "from sklearn.metrics import silhouette_samples, silhouette_score\n",
    "import matplotlib.cm as cm\n",
    "import numpy as np\n",
    "plt.cm.nipy_spectral\n",
    "\n",
    "\n",
    "print(__doc__)\n",
    "\n",
    "def silhoutte_test(X, range_n_clusters):\n",
    "    for n_clusters in range_n_clusters:\n",
    "        # Create a subplot with 1 row and 2 columns\n",
    "        fig, (ax1, ax2) = plt.subplots(1, 2)\n",
    "        fig.set_size_inches(18, 7)\n",
    "        \n",
    "        # The 1st subplot is the silhouette plot\n",
    "        # The silhouette coefficient can range from -1, 1 but in this example all\n",
    "        # lie within [-0.1, 1]\n",
    "        ax1.set_xlim([-0.1, 1])\n",
    "        # The (n_clusters+1)*10 is for inserting blank space between silhouette\n",
    "        # plots of individual clusters, to demarcate them clearly.\n",
    "        ax1.set_ylim([0, len(X) + (n_clusters + 1) * 10])\n",
    "        \n",
    "        # Initialize the clusterer with n_clusters value and a random generator\n",
    "        # seed of 10 for reproducibility.\n",
    "        clusterer = KMeans(n_clusters=n_clusters, random_state=10)\n",
    "        cluster_labels = clusterer.fit_predict(X)\n",
    "        \n",
    "        # The silhouette_score gives the average value for all the samples.\n",
    "        # This gives a perspective into the density and separation of the formed\n",
    "        # clusters\n",
    "        silhouette_avg = silhouette_score(X, cluster_labels)\n",
    "        print(\"For n_clusters =\", n_clusters,\n",
    "              \"The average silhouette_score is :\", silhouette_avg)\n",
    "        \n",
    "        # Compute the silhouette scores for each sample\n",
    "        sample_silhouette_values = silhouette_samples(X, cluster_labels)\n",
    "        \n",
    "        y_lower = 10\n",
    "        for i in range(n_clusters):\n",
    "            # Aggregate the silhouette scores for samples belonging to\n",
    "            # cluster i, and sort them\n",
    "            ith_cluster_silhouette_values = \\\n",
    "                sample_silhouette_values[cluster_labels == i]\n",
    "            \n",
    "            ith_cluster_silhouette_values.sort()\n",
    "            \n",
    "            size_cluster_i = ith_cluster_silhouette_values.shape[0]\n",
    "            y_upper = y_lower + size_cluster_i\n",
    "              \n",
    "            color = plt.cm.nipy_spectral(float(i) / n_clusters)\n",
    "            ax1.fill_betweenx(np.arange(y_lower, y_upper),0, ith_cluster_silhouette_values,\n",
    "                              facecolor=color, edgecolor=color, alpha=0.7)\n",
    "            \n",
    "            # Label the silhouette plots with their cluster numbers at the middle\n",
    "            ax1.text(-0.05, y_lower + 0.5 * size_cluster_i, str(i))\n",
    "            \n",
    "            # Compute the new y_lower for next plot\n",
    "            y_lower = y_upper + 10 # 10 for the 0 samples\n",
    "            \n",
    "        ax1.set_title(\"The silhouette plot for the various clusters.\")\n",
    "        ax1.set_xlabel(\"The silhouette coefficient values\")\n",
    "        ax1.set_ylabel(\"Cluster label\")\n",
    "        \n",
    "        # The vertical line for average silhouette score of all the values\n",
    "        ax1.axvline(x=silhouette_avg, color=\"red\", linestyle=\"--\")\n",
    "        ax1.set_yticks([]) # Clear the yaxis labels / ticks\n",
    "        ax1.set_xticks([-0.1, 0, 0.2, 0.4, 0.6, 0.8, 1])\n",
    "        \n",
    "        # 2nd Plot showing the actual clusters formed \n",
    "        colors = plt.cm.nipy_spectral(cluster_labels.astype(float)/n_clusters)\n",
    "        ax2.scatter(X[:, 0], X[:, 1], marker='.', s=30, lw=0, alpha=0.7, c=colors)\n",
    "        \n",
    "        # Labeling the clusters\n",
    "        centers = clusterer.cluster_centers_\n",
    " \n",
    "        # Draw white circles at cluster centers\n",
    "        ax2.scatter(centers[:, 0], centers[:, 1], marker='o', c=\"white\", alpha=1, s=200)\n",
    "        for i, c in enumerate(centers):\n",
    "            ax2.scatter(c[0], c[1], marker='$%d$' % i, alpha=1, s=50)\n",
    "            ax2.set_title(\"The visualization of the clustered data.\")\n",
    "            ax2.set_xlabel(\"Feature space for the 1st feature\")\n",
    "            ax2.set_ylabel(\"Feature space for the 2nd feature\")\n",
    "            plt.suptitle((\"Silhouette analysis for KMeans clustering on sample data \"\n",
    "                          \"with n_clusters = %d\" % n_clusters),\n",
    "                         fontsize=14, fontweight='bold')\n",
    "            plt.show()"
   ]
  },
  {
   "cell_type": "code",
   "execution_count": 9,
   "id": "2302a5af",
   "metadata": {
    "scrolled": false
   },
   "outputs": [
    {
     "name": "stdout",
     "output_type": "stream",
     "text": [
      "For n_clusters = 3 The average silhouette_score is : 0.3502695652257052\n"
     ]
    },
    {
     "data": {
      "image/png": "[encoded data removed]",
      "text/plain": [
       "<Figure size 1296x504 with 2 Axes>"
      ]
     },
     "metadata": {
      "needs_background": "light"
     },
     "output_type": "display_data"
    },
    {
     "data": {
      "text/plain": [
       "<Figure size 432x288 with 0 Axes>"
      ]
     },
     "metadata": {},
     "output_type": "display_data"
    },
    {
     "data": {
      "text/plain": [
       "<Figure size 432x288 with 0 Axes>"
      ]
     },
     "metadata": {},
     "output_type": "display_data"
    },
    {
     "name": "stdout",
     "output_type": "stream",
     "text": [
      "For n_clusters = 5 The average silhouette_score is : 0.35634326917981873\n"
     ]
    },
    {
     "data": {
      "image/png": "[encoded data removed]",
      "text/plain": [
       "<Figure size 1296x504 with 2 Axes>"
      ]
     },
     "metadata": {
      "needs_background": "light"
     },
     "output_type": "display_data"
    },
    {
     "data": {
      "text/plain": [
       "<Figure size 432x288 with 0 Axes>"
      ]
     },
     "metadata": {},
     "output_type": "display_data"
    },
    {
     "data": {
      "text/plain": [
       "<Figure size 432x288 with 0 Axes>"
      ]
     },
     "metadata": {},
     "output_type": "display_data"
    },
    {
     "data": {
      "text/plain": [
       "<Figure size 432x288 with 0 Axes>"
      ]
     },
     "metadata": {},
     "output_type": "display_data"
    },
    {
     "data": {
      "text/plain": [
       "<Figure size 432x288 with 0 Axes>"
      ]
     },
     "metadata": {},
     "output_type": "display_data"
    },
    {
     "name": "stdout",
     "output_type": "stream",
     "text": [
      "For n_clusters = 7 The average silhouette_score is : 0.3644716091893043\n"
     ]
    },
    {
     "data": {
      "image/png": "[encoded data removed]",
      "text/plain": [
       "<Figure size 1296x504 with 2 Axes>"
      ]
     },
     "metadata": {
      "needs_background": "light"
     },
     "output_type": "display_data"
    },
    {
     "data": {
      "text/plain": [
       "<Figure size 432x288 with 0 Axes>"
      ]
     },
     "metadata": {},
     "output_type": "display_data"
    },
    {
     "data": {
      "text/plain": [
       "<Figure size 432x288 with 0 Axes>"
      ]
     },
     "metadata": {},
     "output_type": "display_data"
    },
    {
     "data": {
      "text/plain": [
       "<Figure size 432x288 with 0 Axes>"
      ]
     },
     "metadata": {},
     "output_type": "display_data"
    },
    {
     "data": {
      "text/plain": [
       "<Figure size 432x288 with 0 Axes>"
      ]
     },
     "metadata": {},
     "output_type": "display_data"
    },
    {
     "data": {
      "text/plain": [
       "<Figure size 432x288 with 0 Axes>"
      ]
     },
     "metadata": {},
     "output_type": "display_data"
    },
    {
     "data": {
      "text/plain": [
       "<Figure size 432x288 with 0 Axes>"
      ]
     },
     "metadata": {},
     "output_type": "display_data"
    },
    {
     "name": "stdout",
     "output_type": "stream",
     "text": [
      "For n_clusters = 9 The average silhouette_score is : 0.3957048870890581\n"
     ]
    },
    {
     "data": {
      "image/png": "[encoded data removed]",
      "text/plain": [
       "<Figure size 1296x504 with 2 Axes>"
      ]
     },
     "metadata": {
      "needs_background": "light"
     },
     "output_type": "display_data"
    },
    {
     "data": {
      "text/plain": [
       "<Figure size 432x288 with 0 Axes>"
      ]
     },
     "metadata": {},
     "output_type": "display_data"
    },
    {
     "data": {
      "text/plain": [
       "<Figure size 432x288 with 0 Axes>"
      ]
     },
     "metadata": {},
     "output_type": "display_data"
    },
    {
     "data": {
      "text/plain": [
       "<Figure size 432x288 with 0 Axes>"
      ]
     },
     "metadata": {},
     "output_type": "display_data"
    },
    {
     "data": {
      "text/plain": [
       "<Figure size 432x288 with 0 Axes>"
      ]
     },
     "metadata": {},
     "output_type": "display_data"
    },
    {
     "data": {
      "text/plain": [
       "<Figure size 432x288 with 0 Axes>"
      ]
     },
     "metadata": {},
     "output_type": "display_data"
    },
    {
     "data": {
      "text/plain": [
       "<Figure size 432x288 with 0 Axes>"
      ]
     },
     "metadata": {},
     "output_type": "display_data"
    },
    {
     "data": {
      "text/plain": [
       "<Figure size 432x288 with 0 Axes>"
      ]
     },
     "metadata": {},
     "output_type": "display_data"
    },
    {
     "data": {
      "text/plain": [
       "<Figure size 432x288 with 0 Axes>"
      ]
     },
     "metadata": {},
     "output_type": "display_data"
    }
   ],
   "source": [
    "range_clusters = [3,5,7,9]\n",
    "silhoutte_test(x,range_clusters)"
   ]
  },
  {
   "cell_type": "code",
   "execution_count": 10,
   "id": "4ed5f0fa",
   "metadata": {},
   "outputs": [],
   "source": [
    "import numpy as np\n",
    "def purity_score (cluster, classes):\n",
    "    A = np.c_[(cluster, classes)]\n",
    "    n_accurate = 0.\n",
    "    for j in np.unique(A[:,0]):\n",
    "        z = A[A[:, 0]==j, 1]\n",
    "        x = np.argmax(np.max(z))\n",
    "        n_accurate += len(z[z==x])\n",
    "    return n_accurate/A.shape[0]"
   ]
  },
  {
   "cell_type": "code",
   "execution_count": 11,
   "id": "c7333b15",
   "metadata": {},
   "outputs": [
    {
     "name": "stdout",
     "output_type": "stream",
     "text": [
      "clusters : [0 1 0 2 2 2 2 1 1 1 2 0 0 0 0 0 0 2 0 2 0 2 2 0 0 1 1 0 0 0]\n",
      "classes : [0 0 2 1 2 2 2 1 1 1 2 0 1 0 2 1 0 0 2 2 1 2 0 1 0 1 1 1 2 2]\n"
     ]
    },
    {
     "data": {
      "text/plain": [
       "0.26666666666666666"
      ]
     },
     "execution_count": 11,
     "metadata": {},
     "output_type": "execute_result"
    }
   ],
   "source": [
    "classes = [0,0,2,1,2,2,2,1,1,1,2,0,1,0,2,1,0,0,2,2,1,2,0,1,0,1,1,1,2,2]\n",
    "print ('clusters : %s' %labels)\n",
    "print ('classes : %s' %np.array(classes))\n",
    "purity_score(labels, classes)"
   ]
  },
  {
   "cell_type": "code",
   "execution_count": null,
   "id": "6fcc6b96",
   "metadata": {},
   "outputs": [],
   "source": []
  }
 ],
 "metadata": {
  "kernelspec": {
   "display_name": "Python 3",
   "language": "python",
   "name": "python3"
  },
  "language_info": {
   "codemirror_mode": {
    "name": "ipython",
    "version": 3
   },
   "file_extension": ".py",
   "mimetype": "text/x-python",
   "name": "python",
   "nbconvert_exporter": "python",
   "pygments_lexer": "ipython3",
   "version": "3.8.8"
  }
 },
 "nbformat": 4,
 "nbformat_minor": 5
}
